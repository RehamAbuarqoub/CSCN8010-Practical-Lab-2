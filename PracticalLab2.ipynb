{
 "cells": [
  {
   "cell_type": "markdown",
   "id": "6c592286",
   "metadata": {},
   "source": [
    "### CSCN8010\n",
    "#### Practical Lab 2: Multivariate Linear Regression, Non-Parametric Models and Cross-Validation"
   ]
  },
  {
   "cell_type": "markdown",
   "id": "24c66e3d",
   "metadata": {},
   "source": [
    "### Part 1"
   ]
  },
  {
   "cell_type": "markdown",
   "id": "ce7c8e08",
   "metadata": {},
   "source": [
    "#### 1. Get the data."
   ]
  },
  {
   "cell_type": "code",
   "execution_count": 1,
   "id": "608c4115",
   "metadata": {},
   "outputs": [],
   "source": [
    "from sklearn import datasets\n",
    "diabetes = datasets.load_diabetes(as_frame=True)\n",
    "df = diabetes.frame\n"
   ]
  },
  {
   "cell_type": "markdown",
   "id": "af736aba",
   "metadata": {},
   "source": [
    "#### 2. Frame the Problem."
   ]
  },
  {
   "cell_type": "markdown",
   "id": "ea1dbbe2",
   "metadata": {},
   "source": [
    "#### 3. EDA - Describe the data, explore it, and provide insights about it. "
   ]
  },
  {
   "cell_type": "markdown",
   "id": "8379acb5",
   "metadata": {},
   "source": [
    "#### 4. Clean the data"
   ]
  },
  {
   "cell_type": "markdown",
   "id": "a83c56bf",
   "metadata": {},
   "source": [
    "#### 5. Split the dataset"
   ]
  },
  {
   "cell_type": "markdown",
   "id": "d5df3b16",
   "metadata": {},
   "source": [
    "### Part 2"
   ]
  },
  {
   "cell_type": "markdown",
   "id": "94975359",
   "metadata": {},
   "source": [
    "### Part 3"
   ]
  }
 ],
 "metadata": {
  "kernelspec": {
   "display_name": "Python 3",
   "language": "python",
   "name": "python3"
  },
  "language_info": {
   "codemirror_mode": {
    "name": "ipython",
    "version": 3
   },
   "file_extension": ".py",
   "mimetype": "text/x-python",
   "name": "python",
   "nbconvert_exporter": "python",
   "pygments_lexer": "ipython3",
   "version": "3.13.3"
  }
 },
 "nbformat": 4,
 "nbformat_minor": 5
}
